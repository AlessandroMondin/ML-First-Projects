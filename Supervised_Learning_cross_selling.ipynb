{
 "cells": [
  {
   "cell_type": "markdown",
   "metadata": {},
   "source": [
    "# Supervised Learning Project"
   ]
  },
  {
   "cell_type": "code",
   "execution_count": 1797,
   "metadata": {},
   "outputs": [],
   "source": [
    "import pandas as pd\n",
    "import numpy as np\n",
    "import matplotlib.pyplot as plt\n",
    "import seaborn as sns"
   ]
  },
  {
   "cell_type": "code",
   "execution_count": 1798,
   "metadata": {},
   "outputs": [],
   "source": [
    "df = pd.read_csv(\"model.csv\")"
   ]
  },
  {
   "cell_type": "code",
   "execution_count": 1799,
   "metadata": {
    "scrolled": false
   },
   "outputs": [
    {
     "data": {
      "text/plain": [
       "0    69878\n",
       "1    32473\n",
       "Name: Target, dtype: int64"
      ]
     },
     "execution_count": 1799,
     "metadata": {},
     "output_type": "execute_result"
    }
   ],
   "source": [
    "df[\"Target\"].value_counts()"
   ]
  },
  {
   "cell_type": "markdown",
   "metadata": {},
   "source": [
    "## Data Cleaning & EDA"
   ]
  },
  {
   "cell_type": "markdown",
   "metadata": {},
   "source": [
    "#### DownSampling"
   ]
  },
  {
   "cell_type": "code",
   "execution_count": 1800,
   "metadata": {},
   "outputs": [
    {
     "data": {
      "text/plain": [
       "'\"from sklearn.utils import resample\\n\\ndf_majority = df[df.Target==0] \\ndf_minority = df[df.Target==1] \\n \\n#2) Downsample majority class\\ndf_majority_downsampled = resample(df_majority, \\n                                   replace=False,\\n                                   n_samples=32473,  # number of samples into the minority class (change it accordingly to your dataset)\\n                                   random_state=123)  # reproducible results\\n \\n#3) Combine minority class with downsampled majority class\\ndf = pd.concat([df_majority_downsampled, df_minority])\\n \\n#4) Display new class counts\\ndf.Target.value_counts() #\"target\" is the name of the target column, change it accordingly to your dataset'"
      ]
     },
     "execution_count": 1800,
     "metadata": {},
     "output_type": "execute_result"
    }
   ],
   "source": [
    "\"\"\"\"from sklearn.utils import resample\n",
    "\n",
    "df_majority = df[df.Target==0] \n",
    "df_minority = df[df.Target==1] \n",
    " \n",
    "#2) Downsample majority class\n",
    "df_majority_downsampled = resample(df_majority, \n",
    "                                   replace=False,\n",
    "                                   n_samples=32473,  # number of samples into the minority class (change it accordingly to your dataset)\n",
    "                                   random_state=123)  # reproducible results\n",
    " \n",
    "#3) Combine minority class with downsampled majority class\n",
    "df = pd.concat([df_majority_downsampled, df_minority])\n",
    " \n",
    "#4) Display new class counts\n",
    "df.Target.value_counts() #\"target\" is the name of the target column, change it accordingly to your dataset\"\"\""
   ]
  },
  {
   "cell_type": "markdown",
   "metadata": {},
   "source": [
    "#### Upsamplig"
   ]
  },
  {
   "cell_type": "code",
   "execution_count": 1801,
   "metadata": {},
   "outputs": [
    {
     "data": {
      "text/plain": [
       "'\"from sklearn.utils import resample\\n\\n#Over-sample Minority Class\\n#1) Separate majority and minority classes\\ndf_majority = df[df.Target==0] #\"target\" is the name of the target column, change it accordingly to your dataset\\ndf_minority = df[df.Target==1] #\"target\" is the name of the target column, change it accordingly to your dataset\\n \\n#2) Oversample minority class\\ndf_minority_oversampled = resample(df_minority, \\n                                   replace=True,\\n                                   n_samples=69878,     # number of samples into the minority class (change it accordingly to your dataset)\\n                                   random_state=123)  # reproducible results\\n \\n#3) Combine oversampled minority class with majority class\\ndf = pd.concat([df_minority_oversampled, df_majority])\\n \\n#4) Display new class counts\\ndf.Target.value_counts() #\"target\" is the name of the target column, change it accordingly to your dataset'"
      ]
     },
     "execution_count": 1801,
     "metadata": {},
     "output_type": "execute_result"
    }
   ],
   "source": [
    "\"\"\"\"from sklearn.utils import resample\n",
    "\n",
    "#Over-sample Minority Class\n",
    "#1) Separate majority and minority classes\n",
    "df_majority = df[df.Target==0] #\"target\" is the name of the target column, change it accordingly to your dataset\n",
    "df_minority = df[df.Target==1] #\"target\" is the name of the target column, change it accordingly to your dataset\n",
    " \n",
    "#2) Oversample minority class\n",
    "df_minority_oversampled = resample(df_minority, \n",
    "                                   replace=True,\n",
    "                                   n_samples=69878,     # number of samples into the minority class (change it accordingly to your dataset)\n",
    "                                   random_state=123)  # reproducible results\n",
    " \n",
    "#3) Combine oversampled minority class with majority class\n",
    "df = pd.concat([df_minority_oversampled, df_majority])\n",
    " \n",
    "#4) Display new class counts\n",
    "df.Target.value_counts() #\"target\" is the name of the target column, change it accordingly to your dataset\"\"\""
   ]
  },
  {
   "cell_type": "code",
   "execution_count": 1802,
   "metadata": {},
   "outputs": [
    {
     "data": {
      "text/html": [
       "<div>\n",
       "<style scoped>\n",
       "    .dataframe tbody tr th:only-of-type {\n",
       "        vertical-align: middle;\n",
       "    }\n",
       "\n",
       "    .dataframe tbody tr th {\n",
       "        vertical-align: top;\n",
       "    }\n",
       "\n",
       "    .dataframe thead th {\n",
       "        text-align: right;\n",
       "    }\n",
       "</style>\n",
       "<table border=\"1\" class=\"dataframe\">\n",
       "  <thead>\n",
       "    <tr style=\"text-align: right;\">\n",
       "      <th></th>\n",
       "      <th>id</th>\n",
       "      <th>Gender</th>\n",
       "      <th>Age</th>\n",
       "      <th>Driving_License</th>\n",
       "      <th>Licence_Type</th>\n",
       "      <th>Region_Code</th>\n",
       "      <th>Previously_Insured</th>\n",
       "      <th>Vehicle_Age</th>\n",
       "      <th>Vehicle_Damage</th>\n",
       "      <th>Annual_Premium</th>\n",
       "      <th>Policy_Sales_Channel</th>\n",
       "      <th>Seniority</th>\n",
       "      <th>Target</th>\n",
       "    </tr>\n",
       "  </thead>\n",
       "  <tbody>\n",
       "    <tr>\n",
       "      <th>0</th>\n",
       "      <td>1</td>\n",
       "      <td>Female</td>\n",
       "      <td>44</td>\n",
       "      <td>1</td>\n",
       "      <td>M</td>\n",
       "      <td>30</td>\n",
       "      <td>No</td>\n",
       "      <td>1-2 Year</td>\n",
       "      <td>Yes</td>\n",
       "      <td>25741</td>\n",
       "      <td>154</td>\n",
       "      <td>152</td>\n",
       "      <td>0</td>\n",
       "    </tr>\n",
       "    <tr>\n",
       "      <th>1</th>\n",
       "      <td>2</td>\n",
       "      <td>Male</td>\n",
       "      <td>23</td>\n",
       "      <td>1</td>\n",
       "      <td>M</td>\n",
       "      <td>3</td>\n",
       "      <td>Yes</td>\n",
       "      <td>&lt; 1 Year</td>\n",
       "      <td>No</td>\n",
       "      <td>2630</td>\n",
       "      <td>152</td>\n",
       "      <td>256</td>\n",
       "      <td>0</td>\n",
       "    </tr>\n",
       "    <tr>\n",
       "      <th>2</th>\n",
       "      <td>3</td>\n",
       "      <td>Male</td>\n",
       "      <td>43</td>\n",
       "      <td>1</td>\n",
       "      <td>C</td>\n",
       "      <td>28</td>\n",
       "      <td>No</td>\n",
       "      <td>1-2 Year</td>\n",
       "      <td>Yes</td>\n",
       "      <td>70720</td>\n",
       "      <td>52</td>\n",
       "      <td>224</td>\n",
       "      <td>0</td>\n",
       "    </tr>\n",
       "    <tr>\n",
       "      <th>3</th>\n",
       "      <td>4</td>\n",
       "      <td>Male</td>\n",
       "      <td>60</td>\n",
       "      <td>1</td>\n",
       "      <td>B</td>\n",
       "      <td>28</td>\n",
       "      <td>Yes</td>\n",
       "      <td>1-2 Year</td>\n",
       "      <td>No</td>\n",
       "      <td>48512</td>\n",
       "      <td>26</td>\n",
       "      <td>86</td>\n",
       "      <td>0</td>\n",
       "    </tr>\n",
       "    <tr>\n",
       "      <th>4</th>\n",
       "      <td>5</td>\n",
       "      <td>Female</td>\n",
       "      <td>42</td>\n",
       "      <td>1</td>\n",
       "      <td>B</td>\n",
       "      <td>46</td>\n",
       "      <td>No</td>\n",
       "      <td>1-2 Year</td>\n",
       "      <td>Yes</td>\n",
       "      <td>32169</td>\n",
       "      <td>124</td>\n",
       "      <td>132</td>\n",
       "      <td>0</td>\n",
       "    </tr>\n",
       "    <tr>\n",
       "      <th>...</th>\n",
       "      <td>...</td>\n",
       "      <td>...</td>\n",
       "      <td>...</td>\n",
       "      <td>...</td>\n",
       "      <td>...</td>\n",
       "      <td>...</td>\n",
       "      <td>...</td>\n",
       "      <td>...</td>\n",
       "      <td>...</td>\n",
       "      <td>...</td>\n",
       "      <td>...</td>\n",
       "      <td>...</td>\n",
       "      <td>...</td>\n",
       "    </tr>\n",
       "    <tr>\n",
       "      <th>102346</th>\n",
       "      <td>102347</td>\n",
       "      <td>Female</td>\n",
       "      <td>25</td>\n",
       "      <td>1</td>\n",
       "      <td>B</td>\n",
       "      <td>32</td>\n",
       "      <td>Yes</td>\n",
       "      <td>&lt; 1 Year</td>\n",
       "      <td>No</td>\n",
       "      <td>34695</td>\n",
       "      <td>152</td>\n",
       "      <td>133</td>\n",
       "      <td>0</td>\n",
       "    </tr>\n",
       "    <tr>\n",
       "      <th>102347</th>\n",
       "      <td>102348</td>\n",
       "      <td>Female</td>\n",
       "      <td>47</td>\n",
       "      <td>1</td>\n",
       "      <td>M</td>\n",
       "      <td>28</td>\n",
       "      <td>No</td>\n",
       "      <td>1-2 Year</td>\n",
       "      <td>Yes</td>\n",
       "      <td>30564</td>\n",
       "      <td>26</td>\n",
       "      <td>114</td>\n",
       "      <td>1</td>\n",
       "    </tr>\n",
       "    <tr>\n",
       "      <th>102348</th>\n",
       "      <td>102349</td>\n",
       "      <td>Male</td>\n",
       "      <td>72</td>\n",
       "      <td>1</td>\n",
       "      <td>M</td>\n",
       "      <td>8</td>\n",
       "      <td>No</td>\n",
       "      <td>&gt; 2 Years</td>\n",
       "      <td>Yes</td>\n",
       "      <td>52844</td>\n",
       "      <td>124</td>\n",
       "      <td>92</td>\n",
       "      <td>1</td>\n",
       "    </tr>\n",
       "    <tr>\n",
       "      <th>102349</th>\n",
       "      <td>102350</td>\n",
       "      <td>Female</td>\n",
       "      <td>25</td>\n",
       "      <td>1</td>\n",
       "      <td>M</td>\n",
       "      <td>11</td>\n",
       "      <td>Yes</td>\n",
       "      <td>&lt; 1 Year</td>\n",
       "      <td>No</td>\n",
       "      <td>26343</td>\n",
       "      <td>152</td>\n",
       "      <td>127</td>\n",
       "      <td>0</td>\n",
       "    </tr>\n",
       "    <tr>\n",
       "      <th>102350</th>\n",
       "      <td>102351</td>\n",
       "      <td>Male</td>\n",
       "      <td>70</td>\n",
       "      <td>1</td>\n",
       "      <td>D</td>\n",
       "      <td>28</td>\n",
       "      <td>No</td>\n",
       "      <td>1-2 Year</td>\n",
       "      <td>Yes</td>\n",
       "      <td>2630</td>\n",
       "      <td>122</td>\n",
       "      <td>57</td>\n",
       "      <td>0</td>\n",
       "    </tr>\n",
       "  </tbody>\n",
       "</table>\n",
       "<p>102351 rows × 13 columns</p>\n",
       "</div>"
      ],
      "text/plain": [
       "            id  Gender  Age  Driving_License Licence_Type  Region_Code  \\\n",
       "0            1  Female   44                1            M           30   \n",
       "1            2    Male   23                1            M            3   \n",
       "2            3    Male   43                1            C           28   \n",
       "3            4    Male   60                1            B           28   \n",
       "4            5  Female   42                1            B           46   \n",
       "...        ...     ...  ...              ...          ...          ...   \n",
       "102346  102347  Female   25                1            B           32   \n",
       "102347  102348  Female   47                1            M           28   \n",
       "102348  102349    Male   72                1            M            8   \n",
       "102349  102350  Female   25                1            M           11   \n",
       "102350  102351    Male   70                1            D           28   \n",
       "\n",
       "       Previously_Insured Vehicle_Age Vehicle_Damage  Annual_Premium  \\\n",
       "0                      No    1-2 Year            Yes           25741   \n",
       "1                     Yes    < 1 Year             No            2630   \n",
       "2                      No    1-2 Year            Yes           70720   \n",
       "3                     Yes    1-2 Year             No           48512   \n",
       "4                      No    1-2 Year            Yes           32169   \n",
       "...                   ...         ...            ...             ...   \n",
       "102346                Yes    < 1 Year             No           34695   \n",
       "102347                 No    1-2 Year            Yes           30564   \n",
       "102348                 No   > 2 Years            Yes           52844   \n",
       "102349                Yes    < 1 Year             No           26343   \n",
       "102350                 No    1-2 Year            Yes            2630   \n",
       "\n",
       "        Policy_Sales_Channel  Seniority  Target  \n",
       "0                        154        152       0  \n",
       "1                        152        256       0  \n",
       "2                         52        224       0  \n",
       "3                         26         86       0  \n",
       "4                        124        132       0  \n",
       "...                      ...        ...     ...  \n",
       "102346                   152        133       0  \n",
       "102347                    26        114       1  \n",
       "102348                   124         92       1  \n",
       "102349                   152        127       0  \n",
       "102350                   122         57       0  \n",
       "\n",
       "[102351 rows x 13 columns]"
      ]
     },
     "execution_count": 1802,
     "metadata": {},
     "output_type": "execute_result"
    }
   ],
   "source": [
    "df"
   ]
  },
  {
   "cell_type": "markdown",
   "metadata": {},
   "source": [
    "### Upsampling"
   ]
  },
  {
   "cell_type": "markdown",
   "metadata": {},
   "source": [
    "### ANALYSIS OF CAT VARIABLES"
   ]
  },
  {
   "cell_type": "code",
   "execution_count": 1803,
   "metadata": {},
   "outputs": [],
   "source": [
    "cat_cols=[\"Gender\", \"Driving_License\",\"Licence_Type\", \"Region_Code\",\"Previously_Insured\", \"Vehicle_Age\", \"Vehicle_Damage\",\"Policy_Sales_Channel\"]"
   ]
  },
  {
   "cell_type": "code",
   "execution_count": 1804,
   "metadata": {
    "scrolled": true
   },
   "outputs": [
    {
     "name": "stdout",
     "output_type": "stream",
     "text": [
      "['Female' 'Male']\n",
      "[1 0]\n",
      "['M' 'C' 'B' 'A' 'D' nan]\n",
      "[30  3 28 46  8 29 23 41 36 50 18 15 25 51 17 26 16 44 35  9 32 14 38 33\n",
      "  6 19 34 49 10 45 27 39 48 47 11 22 43 31  7 21 12 13 37  2 24 42 20  1\n",
      "  5  4 40  0 52]\n",
      "['No' 'Yes']\n",
      "['1-2 Year' '< 1 Year' '> 2 Years']\n",
      "['Yes' 'No']\n",
      "[154 152  52  26 124 157  78  11 156  25 163  30 160   8   3 122  29 151\n",
      " 150  31  91  65  16  12   4 158 155 125 136   7  24 140  15  61 106   9\n",
      " 153 138  13  55 109 111   1 120  23  35 116 103  60 133 135  22  14  92\n",
      "  44  10  88  64  18 147  19 145 127  42 108  63 113 117  59  90  56 139\n",
      " 159 148 131 119  40  80  86  96 128 121  50   6 123  39 130 110  21 146\n",
      "  37  98  53  94 107 114  20  70  66 129  93  17  45  73  54  46 118  36\n",
      "  51 100  48  47  81  32  82 132  99 105  89  49  67  58   2  76 137  97\n",
      " 134  68  79  38  87  75  71  41  69 101  57 115  28 104  62 149]\n"
     ]
    }
   ],
   "source": [
    "for column in df[cat_cols]:\n",
    "    print(df[column].unique())"
   ]
  },
  {
   "cell_type": "markdown",
   "metadata": {},
   "source": [
    "#### Gender"
   ]
  },
  {
   "cell_type": "code",
   "execution_count": 1805,
   "metadata": {
    "scrolled": true
   },
   "outputs": [
    {
     "data": {
      "text/plain": [
       "<BarContainer object of 2 artists>"
      ]
     },
     "execution_count": 1805,
     "metadata": {},
     "output_type": "execute_result"
    },
    {
     "data": {
      "image/png": "[encoded data removed]",
      "text/plain": [
       "<Figure size 864x648 with 1 Axes>"
      ]
     },
     "metadata": {
      "needs_background": "light"
     },
     "output_type": "display_data"
    }
   ],
   "source": [
    "plt.bar(df[\"Gender\"].value_counts().index, df[\"Gender\"].value_counts())"
   ]
  },
  {
   "cell_type": "markdown",
   "metadata": {},
   "source": [
    "#### Driving_Licence"
   ]
  },
  {
   "cell_type": "code",
   "execution_count": 1806,
   "metadata": {
    "scrolled": true
   },
   "outputs": [
    {
     "data": {
      "text/plain": [
       "[<matplotlib.axis.XTick at 0x7fd3b50f7f10>,\n",
       " <matplotlib.axis.XTick at 0x7fd3b50f78b0>]"
      ]
     },
     "execution_count": 1806,
     "metadata": {},
     "output_type": "execute_result"
    },
    {
     "data": {
      "image/png": "[encoded data removed]",
      "text/plain": [
       "<Figure size 864x648 with 1 Axes>"
      ]
     },
     "metadata": {
      "needs_background": "light"
     },
     "output_type": "display_data"
    }
   ],
   "source": [
    "plt.bar(df[\"Driving_License\"].value_counts().index, df[\"Driving_License\"].value_counts())\n",
    "ax = plt.gca()\n",
    "ax.set_xticks([0,1])"
   ]
  },
  {
   "cell_type": "markdown",
   "metadata": {},
   "source": [
    "#### Licence_Type\n",
    "- Notice the uniform distribution-->should we drop? Not naive"
   ]
  },
  {
   "cell_type": "code",
   "execution_count": 1807,
   "metadata": {
    "scrolled": false
   },
   "outputs": [
    {
     "data": {
      "text/plain": [
       "<BarContainer object of 5 artists>"
      ]
     },
     "execution_count": 1807,
     "metadata": {},
     "output_type": "execute_result"
    },
    {
     "data": {
      "image/png": "[encoded data removed]",
      "text/plain": [
       "<Figure size 864x648 with 1 Axes>"
      ]
     },
     "metadata": {
      "needs_background": "light"
     },
     "output_type": "display_data"
    }
   ],
   "source": [
    "plt.bar(df[\"Licence_Type\"].value_counts().index, df[\"Licence_Type\"].value_counts())"
   ]
  },
  {
   "cell_type": "markdown",
   "metadata": {},
   "source": [
    "#### Region_Code"
   ]
  },
  {
   "cell_type": "markdown",
   "metadata": {},
   "source": [
    "#### Region Code is categorical but has a huge categories numbers-->Label all the values present than a given threshold as \"Others\""
   ]
  },
  {
   "cell_type": "code",
   "execution_count": 1808,
   "metadata": {
    "scrolled": true
   },
   "outputs": [
    {
     "data": {
      "text/plain": [
       "28    31765\n",
       "8      8605\n",
       "46     5182\n",
       "41     4926\n",
       "15     3301\n",
       "30     3008\n",
       "29     2932\n",
       "3      2482\n",
       "11     2470\n",
       "50     2447\n",
       "36     2305\n",
       "33     2010\n",
       "35     1937\n",
       "47     1849\n",
       "6      1517\n",
       "45     1446\n",
       "18     1372\n",
       "37     1344\n",
       "39     1270\n",
       "14     1212\n",
       "48     1168\n",
       "21     1045\n",
       "13     1026\n",
       "10      994\n",
       "2       991\n",
       "7       906\n",
       "12      839\n",
       "9       727\n",
       "32      722\n",
       "27      708\n",
       "17      667\n",
       "24      666\n",
       "43      639\n",
       "26      633\n",
       "25      614\n",
       "38      609\n",
       "23      536\n",
       "20      517\n",
       "31      506\n",
       "4       504\n",
       "0       491\n",
       "49      477\n",
       "16      474\n",
       "19      428\n",
       "34      407\n",
       "40      348\n",
       "5       334\n",
       "22      305\n",
       "1       232\n",
       "44      189\n",
       "42      137\n",
       "52       70\n",
       "51       62\n",
       "Name: Region_Code, dtype: int64"
      ]
     },
     "execution_count": 1808,
     "metadata": {},
     "output_type": "execute_result"
    }
   ],
   "source": [
    "df[\"Region_Code\"].value_counts()"
   ]
  },
  {
   "cell_type": "code",
   "execution_count": 1809,
   "metadata": {},
   "outputs": [
    {
     "data": {
      "text/plain": [
       "51873"
      ]
     },
     "execution_count": 1809,
     "metadata": {},
     "output_type": "execute_result"
    }
   ],
   "source": [
    "df[\"Region_Code\"].value_counts().values[4:].sum()"
   ]
  },
  {
   "cell_type": "code",
   "execution_count": 1810,
   "metadata": {
    "scrolled": false
   },
   "outputs": [
    {
     "data": {
      "text/plain": [
       "50478"
      ]
     },
     "execution_count": 1810,
     "metadata": {},
     "output_type": "execute_result"
    }
   ],
   "source": [
    "df[\"Region_Code\"].value_counts().values[:4].sum()"
   ]
  },
  {
   "cell_type": "code",
   "execution_count": 1811,
   "metadata": {},
   "outputs": [],
   "source": [
    "counts = df['Region_Code'].value_counts()\n",
    "idx = counts[counts.lt(4000)].index\n",
    "df.loc[df['Region_Code'].isin(idx), 'Region_Code'] = \"Other\""
   ]
  },
  {
   "cell_type": "code",
   "execution_count": 1812,
   "metadata": {
    "scrolled": false
   },
   "outputs": [
    {
     "data": {
      "text/plain": [
       "Other    51873\n",
       "28       31765\n",
       "8         8605\n",
       "46        5182\n",
       "41        4926\n",
       "Name: Region_Code, dtype: int64"
      ]
     },
     "execution_count": 1812,
     "metadata": {},
     "output_type": "execute_result"
    }
   ],
   "source": [
    "df[\"Region_Code\"].value_counts()"
   ]
  },
  {
   "cell_type": "code",
   "execution_count": 1813,
   "metadata": {
    "scrolled": true
   },
   "outputs": [
    {
     "data": {
      "text/plain": [
       "'\"plt.bar(df[\"Region_Code\"].value_counts().index, df[\"Region_Code\"].value_counts())\\nax = plt.gca()\\nax.set_xticks([\"Other\",\"28\",\"8\",\"46\",\"41\"]'"
      ]
     },
     "execution_count": 1813,
     "metadata": {},
     "output_type": "execute_result"
    }
   ],
   "source": [
    "\"\"\"\"plt.bar(df[\"Region_Code\"].value_counts().index, df[\"Region_Code\"].value_counts())\n",
    "ax = plt.gca()\n",
    "ax.set_xticks([\"Other\",\"28\",\"8\",\"46\",\"41\"]\"\"\""
   ]
  },
  {
   "cell_type": "markdown",
   "metadata": {},
   "source": [
    "#### Vehicle_Age"
   ]
  },
  {
   "cell_type": "code",
   "execution_count": 1814,
   "metadata": {},
   "outputs": [
    {
     "data": {
      "text/plain": [
       "<BarContainer object of 3 artists>"
      ]
     },
     "execution_count": 1814,
     "metadata": {},
     "output_type": "execute_result"
    },
    {
     "data": {
      "image/png": "[encoded data removed]",
      "text/plain": [
       "<Figure size 864x648 with 1 Axes>"
      ]
     },
     "metadata": {
      "needs_background": "light"
     },
     "output_type": "display_data"
    }
   ],
   "source": [
    "plt.bar(df[\"Vehicle_Age\"].value_counts().index, df[\"Vehicle_Age\"].value_counts())"
   ]
  },
  {
   "cell_type": "markdown",
   "metadata": {},
   "source": [
    "#### Vehicle_Damage"
   ]
  },
  {
   "cell_type": "code",
   "execution_count": 1815,
   "metadata": {
    "scrolled": true
   },
   "outputs": [
    {
     "data": {
      "text/plain": [
       "<BarContainer object of 2 artists>"
      ]
     },
     "execution_count": 1815,
     "metadata": {},
     "output_type": "execute_result"
    },
    {
     "data": {
      "image/png": "[encoded data removed]",
      "text/plain": [
       "<Figure size 864x648 with 1 Axes>"
      ]
     },
     "metadata": {
      "needs_background": "light"
     },
     "output_type": "display_data"
    }
   ],
   "source": [
    "plt.bar(df[\"Vehicle_Damage\"].value_counts().index, df[\"Vehicle_Damage\"].value_counts())"
   ]
  },
  {
   "cell_type": "markdown",
   "metadata": {},
   "source": [
    "#### Policy_Sales_Channel"
   ]
  },
  {
   "cell_type": "code",
   "execution_count": 1816,
   "metadata": {
    "scrolled": true
   },
   "outputs": [
    {
     "data": {
      "text/plain": [
       "<BarContainer object of 142 artists>"
      ]
     },
     "execution_count": 1816,
     "metadata": {},
     "output_type": "execute_result"
    },
    {
     "data": {
      "image/png": "[encoded data removed]",
      "text/plain": [
       "<Figure size 864x648 with 1 Axes>"
      ]
     },
     "metadata": {
      "needs_background": "light"
     },
     "output_type": "display_data"
    }
   ],
   "source": [
    "plt.bar(df[\"Policy_Sales_Channel\"].value_counts().index, df[\"Policy_Sales_Channel\"].value_counts())"
   ]
  },
  {
   "cell_type": "code",
   "execution_count": 1817,
   "metadata": {
    "scrolled": true
   },
   "outputs": [
    {
     "data": {
      "text/plain": [
       "152    29978\n",
       "26     24504\n",
       "124    22317\n",
       "160     4778\n",
       "156     3424\n",
       "       ...  \n",
       "73         1\n",
       "137        1\n",
       "75         1\n",
       "117        1\n",
       "41         1\n",
       "Name: Policy_Sales_Channel, Length: 142, dtype: int64"
      ]
     },
     "execution_count": 1817,
     "metadata": {},
     "output_type": "execute_result"
    }
   ],
   "source": [
    "df[\"Policy_Sales_Channel\"].value_counts()"
   ]
  },
  {
   "cell_type": "markdown",
   "metadata": {},
   "source": [
    "##### Here I will label all the values of the cat column \"Policy_Sales_Channel\" present less than 20000 times as \"Others\""
   ]
  },
  {
   "cell_type": "code",
   "execution_count": 1818,
   "metadata": {},
   "outputs": [],
   "source": [
    "counts = df['Policy_Sales_Channel'].value_counts()\n",
    "idx = counts[counts.lt(10000)].index\n",
    "df.loc[df['Policy_Sales_Channel'].isin(idx), 'Policy_Sales_Channel'] = 'Other'"
   ]
  },
  {
   "cell_type": "code",
   "execution_count": 1819,
   "metadata": {
    "scrolled": false
   },
   "outputs": [
    {
     "data": {
      "text/plain": [
       "152      29978\n",
       "Other    25552\n",
       "26       24504\n",
       "124      22317\n",
       "Name: Policy_Sales_Channel, dtype: int64"
      ]
     },
     "execution_count": 1819,
     "metadata": {},
     "output_type": "execute_result"
    }
   ],
   "source": [
    "df[\"Policy_Sales_Channel\"].value_counts()"
   ]
  },
  {
   "cell_type": "code",
   "execution_count": 1820,
   "metadata": {},
   "outputs": [
    {
     "data": {
      "text/plain": [
       "id                         0\n",
       "Gender                     0\n",
       "Age                        0\n",
       "Driving_License            0\n",
       "Licence_Type            5091\n",
       "Region_Code                0\n",
       "Previously_Insured         0\n",
       "Vehicle_Age                0\n",
       "Vehicle_Damage             0\n",
       "Annual_Premium             0\n",
       "Policy_Sales_Channel       0\n",
       "Seniority                  0\n",
       "Target                     0\n",
       "dtype: int64"
      ]
     },
     "execution_count": 1820,
     "metadata": {},
     "output_type": "execute_result"
    }
   ],
   "source": [
    "df.isnull().sum()"
   ]
  },
  {
   "cell_type": "code",
   "execution_count": 1821,
   "metadata": {},
   "outputs": [],
   "source": [
    "df.dropna(thresh=round(len(df.columns)*0.7), axis=0, inplace=True)"
   ]
  },
  {
   "cell_type": "code",
   "execution_count": 1822,
   "metadata": {},
   "outputs": [],
   "source": [
    "df.dropna(thresh=round(len(df)*0.7), axis=1, inplace=True)"
   ]
  },
  {
   "cell_type": "markdown",
   "metadata": {},
   "source": [
    "### Scenario Drop Licence_Type-NaN"
   ]
  },
  {
   "cell_type": "code",
   "execution_count": 1823,
   "metadata": {},
   "outputs": [],
   "source": [
    "df.drop([\"Licence_Type\"], axis=1, inplace=True)"
   ]
  },
  {
   "cell_type": "code",
   "execution_count": 1824,
   "metadata": {},
   "outputs": [],
   "source": [
    "#len(df)"
   ]
  },
  {
   "cell_type": "code",
   "execution_count": 1825,
   "metadata": {
    "scrolled": true
   },
   "outputs": [],
   "source": [
    "#df[\"Licence_Type\"].value_counts(dropna=True, normalize=True)"
   ]
  },
  {
   "cell_type": "markdown",
   "metadata": {},
   "source": [
    "### Scenario FillNa Licence_Type-NaN"
   ]
  },
  {
   "cell_type": "markdown",
   "metadata": {},
   "source": [
    "#### Fillna with random distribution"
   ]
  },
  {
   "cell_type": "code",
   "execution_count": 1826,
   "metadata": {},
   "outputs": [],
   "source": [
    "#s = df.Licence_Type.value_counts(normalize=True)"
   ]
  },
  {
   "cell_type": "code",
   "execution_count": 1827,
   "metadata": {},
   "outputs": [],
   "source": [
    "#missing = df['Licence_Type'].isnull()\n",
    "#df.loc[missing,'Licence_Type'] = np.random.choice(s.index, size=len(df[missing]),p=s.values)"
   ]
  },
  {
   "cell_type": "markdown",
   "metadata": {},
   "source": [
    "#### Fillna with mode"
   ]
  },
  {
   "cell_type": "code",
   "execution_count": 1828,
   "metadata": {},
   "outputs": [],
   "source": [
    "#df[[\"Licence_Type\"]]=df[[\"Licence_Type\"]].fillna(df[\"Licence_Type\"].value_counts().index[0])"
   ]
  },
  {
   "cell_type": "code",
   "execution_count": 1829,
   "metadata": {},
   "outputs": [],
   "source": [
    "#df[\"Licence_Type\"].value_counts(dropna=False, normalize=True)"
   ]
  },
  {
   "cell_type": "code",
   "execution_count": 1830,
   "metadata": {},
   "outputs": [],
   "source": [
    "numerical_cols = [\"Age\",\"Annual_Premium\",\"Seniority\"]"
   ]
  },
  {
   "cell_type": "code",
   "execution_count": 1831,
   "metadata": {
    "scrolled": false
   },
   "outputs": [
    {
     "data": {
      "image/png": "[encoded data removed]",
      "text/plain": [
       "<Figure size 864x648 with 1 Axes>"
      ]
     },
     "metadata": {
      "needs_background": "light"
     },
     "output_type": "display_data"
    },
    {
     "data": {
      "image/png": "[encoded data removed]",
      "text/plain": [
       "<Figure size 864x648 with 1 Axes>"
      ]
     },
     "metadata": {
      "needs_background": "light"
     },
     "output_type": "display_data"
    },
    {
     "data": {
      "image/png": "[encoded data removed]",
      "text/plain": [
       "<Figure size 864x648 with 1 Axes>"
      ]
     },
     "metadata": {
      "needs_background": "light"
     },
     "output_type": "display_data"
    }
   ],
   "source": [
    "for column in df[numerical_cols]:\n",
    "    df[column].hist()\n",
    "    plt.show()"
   ]
  },
  {
   "cell_type": "markdown",
   "metadata": {},
   "source": [
    "### Considerations_\n",
    "- \"Age\" and \"Annual Premium\" feature are non-normally distributed--> Log-transformation?\n",
    "- \"Seniority\" is uniformly distributed, hence we might drop the variable"
   ]
  },
  {
   "cell_type": "markdown",
   "metadata": {},
   "source": [
    "### Creating age-ranges from the feature \"Age\""
   ]
  },
  {
   "cell_type": "code",
   "execution_count": 1832,
   "metadata": {},
   "outputs": [],
   "source": [
    "bins = [15, 30, 40, 50, 60, 70, 100]\n",
    "names = [\"<30\", '30-40', '40-50', '50-60', '60-70', \">70\"]\n",
    "\n",
    "df['Age'] = pd.cut(df['Age'], bins, labels=names)"
   ]
  },
  {
   "cell_type": "code",
   "execution_count": 1833,
   "metadata": {},
   "outputs": [
    {
     "data": {
      "text/plain": [
       "<BarContainer object of 6 artists>"
      ]
     },
     "execution_count": 1833,
     "metadata": {},
     "output_type": "execute_result"
    },
    {
     "data": {
      "image/png": "[encoded data removed]",
      "text/plain": [
       "<Figure size 864x648 with 1 Axes>"
      ]
     },
     "metadata": {
      "needs_background": "light"
     },
     "output_type": "display_data"
    }
   ],
   "source": [
    "plt.bar(df[\"Age\"].value_counts().index, df[\"Age\"].value_counts())"
   ]
  },
  {
   "cell_type": "code",
   "execution_count": 1834,
   "metadata": {
    "scrolled": false
   },
   "outputs": [],
   "source": [
    "#print(np.percentile(df[\"Annual_Premium\"],18), np.percentile(df[\"Annual_Premium\"],95))"
   ]
  },
  {
   "cell_type": "code",
   "execution_count": 1835,
   "metadata": {
    "scrolled": true
   },
   "outputs": [],
   "source": [
    "#print(np.percentile(df[\"Annual_Premium\"],20), np.percentile(df[\"Annual_Premium\"],40), np.percentile(df[\"Annual_Premium\"],60), np.percentile(df[\"Annual_Premium\"],80), np.percentile(df[\"Annual_Premium\"],100))"
   ]
  },
  {
   "cell_type": "markdown",
   "metadata": {},
   "source": [
    "#### Binning Annual_Premium"
   ]
  },
  {
   "cell_type": "code",
   "execution_count": 1836,
   "metadata": {},
   "outputs": [],
   "source": [
    "#bins = [0, 21492, 29254, 34753, 42118, 540165]\n",
    "#names = [\"Upto_20_Percentile\", 'Upto_40_Percentile', 'Upto_60_Percentile', \"Upto_80_Percentile\", \"Upto_100_Pecentile\"]\n",
    "\n",
    "#df['Annual_Premium'] = pd.cut(df['Annual_Premium'], bins, labels=names)"
   ]
  },
  {
   "cell_type": "code",
   "execution_count": 1837,
   "metadata": {},
   "outputs": [],
   "source": [
    "#bin_premium_group = [2600, 25000, 50000, 100000, 200000, df['Annual_Premium'].max()]\n",
    "#label_bin = ['Bronze', 'Silver', 'Gold', 'Platinum', 'Diamond']\n",
    "\n",
    "\n",
    "\n",
    "#df['Premium_Group'] = pd.cut(df['Annual_Premium'], bins = bin_premium_group, labels = label_bin)"
   ]
  },
  {
   "cell_type": "markdown",
   "metadata": {},
   "source": [
    "#### Capping Annual_Premium"
   ]
  },
  {
   "cell_type": "code",
   "execution_count": 1838,
   "metadata": {
    "scrolled": true
   },
   "outputs": [
    {
     "name": "stdout",
     "output_type": "stream",
     "text": [
      "2630.0 73221.0\n"
     ]
    }
   ],
   "source": [
    "print(np.percentile(df[\"Annual_Premium\"],10), np.percentile(df[\"Annual_Premium\"],99))"
   ]
  },
  {
   "cell_type": "code",
   "execution_count": 1839,
   "metadata": {},
   "outputs": [],
   "source": [
    "df[\"Poor_Insurance\"] = df[\"Annual_Premium\"]<22000"
   ]
  },
  {
   "cell_type": "code",
   "execution_count": 1840,
   "metadata": {},
   "outputs": [],
   "source": [
    "df[\"Rich_Insurance\"] = df[\"Annual_Premium\"]> 73221"
   ]
  },
  {
   "cell_type": "code",
   "execution_count": 1841,
   "metadata": {},
   "outputs": [],
   "source": [
    "df[\"Annual_Premium\"] = df[\"Annual_Premium\"].clip(10000, 73221)"
   ]
  },
  {
   "cell_type": "code",
   "execution_count": 1842,
   "metadata": {},
   "outputs": [],
   "source": [
    "df['Log_Annual_Premium'] = np.log10(df['Annual_Premium'])\n",
    "df.drop(columns=[\"Annual_Premium\"], axis=1, inplace=True)"
   ]
  },
  {
   "cell_type": "code",
   "execution_count": 1843,
   "metadata": {
    "scrolled": false
   },
   "outputs": [
    {
     "data": {
      "text/plain": [
       "(array([1.7756e+04, 7.0000e+00, 1.9000e+01, 6.2000e+01, 1.5600e+02,\n",
       "        3.3200e+02, 9.2600e+02, 2.0800e+03, 4.3820e+03, 7.3390e+03,\n",
       "        1.0331e+04, 1.1862e+04, 1.1989e+04, 1.0675e+04, 8.3370e+03,\n",
       "        6.1950e+03, 4.0970e+03, 2.4110e+03, 1.3900e+03, 2.0050e+03]),\n",
       " array([4.        , 4.04323178, 4.08646357, 4.12969535, 4.17292713,\n",
       "        4.21615891, 4.2593907 , 4.30262248, 4.34585426, 4.38908605,\n",
       "        4.43231783, 4.47554961, 4.51878139, 4.56201318, 4.60524496,\n",
       "        4.64847674, 4.69170852, 4.73494031, 4.77817209, 4.82140387,\n",
       "        4.86463566]),\n",
       " <a list of 20 Patch objects>)"
      ]
     },
     "execution_count": 1843,
     "metadata": {},
     "output_type": "execute_result"
    },
    {
     "data": {
      "image/png": "[encoded data removed]",
      "text/plain": [
       "<Figure size 864x648 with 1 Axes>"
      ]
     },
     "metadata": {
      "needs_background": "light"
     },
     "output_type": "display_data"
    }
   ],
   "source": [
    "plt.hist(df[\"Log_Annual_Premium\"], bins=20)"
   ]
  },
  {
   "cell_type": "code",
   "execution_count": 1844,
   "metadata": {},
   "outputs": [
    {
     "data": {
      "text/plain": [
       "<matplotlib.axes._subplots.AxesSubplot at 0x7fd2eb27c880>"
      ]
     },
     "execution_count": 1844,
     "metadata": {},
     "output_type": "execute_result"
    },
    {
     "data": {
      "image/png": "[encoded data removed]",
      "text/plain": [
       "<Figure size 864x648 with 2 Axes>"
      ]
     },
     "metadata": {
      "needs_background": "light"
     },
     "output_type": "display_data"
    }
   ],
   "source": [
    "corr = df.corr()\n",
    "sns.heatmap(corr, annot=True, linewidths=0.5)"
   ]
  },
  {
   "cell_type": "code",
   "execution_count": 1845,
   "metadata": {},
   "outputs": [],
   "source": [
    "#df.drop(columns=[\"Licence_Type\"], axis=1, inplace=True)"
   ]
  },
  {
   "cell_type": "code",
   "execution_count": 1846,
   "metadata": {},
   "outputs": [],
   "source": [
    "df = pd.get_dummies(df, columns=[\"Gender\",\"Age\",\"Region_Code\",\"Previously_Insured\",\"Vehicle_Age\",\"Vehicle_Damage\",\"Policy_Sales_Channel\"])"
   ]
  },
  {
   "cell_type": "code",
   "execution_count": 1847,
   "metadata": {},
   "outputs": [
    {
     "data": {
      "text/plain": [
       "Index(['id', 'Driving_License', 'Seniority', 'Target', 'Poor_Insurance',\n",
       "       'Rich_Insurance', 'Log_Annual_Premium', 'Gender_Female', 'Gender_Male',\n",
       "       'Age_<30', 'Age_30-40', 'Age_40-50', 'Age_50-60', 'Age_60-70',\n",
       "       'Age_>70', 'Region_Code_8', 'Region_Code_28', 'Region_Code_41',\n",
       "       'Region_Code_46', 'Region_Code_Other', 'Previously_Insured_No',\n",
       "       'Previously_Insured_Yes', 'Vehicle_Age_1-2 Year',\n",
       "       'Vehicle_Age_< 1 Year', 'Vehicle_Age_> 2 Years', 'Vehicle_Damage_No',\n",
       "       'Vehicle_Damage_Yes', 'Policy_Sales_Channel_26',\n",
       "       'Policy_Sales_Channel_124', 'Policy_Sales_Channel_152',\n",
       "       'Policy_Sales_Channel_Other'],\n",
       "      dtype='object')"
      ]
     },
     "execution_count": 1847,
     "metadata": {},
     "output_type": "execute_result"
    }
   ],
   "source": [
    "#df.drop(columns=[\"Annual_Premium\"],axis=1, inplace=True)\n",
    "df.columns"
   ]
  },
  {
   "cell_type": "code",
   "execution_count": 1848,
   "metadata": {},
   "outputs": [],
   "source": [
    "#######"
   ]
  },
  {
   "cell_type": "markdown",
   "metadata": {},
   "source": [
    "## MACHINE LEARNING"
   ]
  },
  {
   "cell_type": "code",
   "execution_count": 1849,
   "metadata": {},
   "outputs": [],
   "source": [
    "from sklearn.ensemble import ExtraTreesClassifier\n",
    "from sklearn.model_selection import train_test_split\n",
    "from sklearn.preprocessing import StandardScaler\n",
    "from sklearn.preprocessing import RobustScaler\n",
    "from sklearn.preprocessing import MinMaxScaler\n",
    "from sklearn.pipeline import Pipeline\n",
    "from sklearn.model_selection import GridSearchCV\n",
    "from sklearn.metrics import classification_report\n"
   ]
  },
  {
   "cell_type": "code",
   "execution_count": 1850,
   "metadata": {},
   "outputs": [],
   "source": [
    "X = df.drop(columns=['Target', \"id\"],axis=1)\n",
    "y = df['Target']"
   ]
  },
  {
   "cell_type": "code",
   "execution_count": 1851,
   "metadata": {},
   "outputs": [],
   "source": [
    "x_train, x_test, y_train, y_test = train_test_split(X, y, test_size=0.20 ,random_state=123, stratify=y)"
   ]
  },
  {
   "cell_type": "code",
   "execution_count": 1852,
   "metadata": {
    "scrolled": true
   },
   "outputs": [
    {
     "data": {
      "text/plain": [
       "ExtraTreesClassifier()"
      ]
     },
     "execution_count": 1852,
     "metadata": {},
     "output_type": "execute_result"
    }
   ],
   "source": [
    "model = ExtraTreesClassifier()\n",
    "model.fit(x_train, y_train)"
   ]
  },
  {
   "cell_type": "code",
   "execution_count": 1853,
   "metadata": {},
   "outputs": [
    {
     "data": {
      "text/plain": [
       "29"
      ]
     },
     "execution_count": 1853,
     "metadata": {},
     "output_type": "execute_result"
    }
   ],
   "source": [
    "len(x_train.columns)"
   ]
  },
  {
   "cell_type": "code",
   "execution_count": 1854,
   "metadata": {},
   "outputs": [
    {
     "data": {
      "text/plain": [
       "array([0.00704874, 0.33800862, 0.0038652 , 0.0016475 , 0.27272784,\n",
       "       0.00298649, 0.00304409, 0.01215196, 0.0075066 , 0.00451457,\n",
       "       0.00218212, 0.00413888, 0.00473936, 0.00265138, 0.00496475,\n",
       "       0.00234712, 0.00204649, 0.00356539, 0.05429756, 0.04995618,\n",
       "       0.00427083, 0.01775588, 0.00266696, 0.08593287, 0.0747626 ,\n",
       "       0.0045587 , 0.00487705, 0.01701142, 0.00377286])"
      ]
     },
     "execution_count": 1854,
     "metadata": {},
     "output_type": "execute_result"
    }
   ],
   "source": [
    "model.feature_importances_"
   ]
  },
  {
   "cell_type": "code",
   "execution_count": 1855,
   "metadata": {
    "scrolled": false
   },
   "outputs": [
    {
     "data": {
      "image/png": "[encoded data removed]",
      "text/plain": [
       "<Figure size 864x648 with 1 Axes>"
      ]
     },
     "metadata": {
      "needs_background": "light"
     },
     "output_type": "display_data"
    }
   ],
   "source": [
    "pd.Series(model.feature_importances_, index=x_train.columns).nlargest(100).plot(kind='barh') \n",
    "plt.rcParams['figure.figsize'] = [12, 9]\n",
    "plt.show()"
   ]
  },
  {
   "cell_type": "markdown",
   "metadata": {},
   "source": [
    "### Additional drop of variables \n",
    "- 1) All before Police_Sales_Channel_26\n",
    "- 2) All before Region_Code_Other"
   ]
  },
  {
   "cell_type": "code",
   "execution_count": 1856,
   "metadata": {},
   "outputs": [],
   "source": [
    "#df.drop(columns=[\"Vehicle_Age_> 2 Years\",\"Region_Code_46\",\"Age_50-60\",\"Region_Code_41\",\"Region_Code_8\",\"Gender_Female\",\"Gender_Male\",\"Region_Code_Other\",\"Policy_Sales_Channel_Other\"],axis=1, inplace=True)"
   ]
  },
  {
   "cell_type": "code",
   "execution_count": 1857,
   "metadata": {},
   "outputs": [],
   "source": [
    "df.drop(columns=[\"Vehicle_Age_> 2 Years\", \"Age_50-60\",\"Region_Code_8\",\"Gender_Female\",\"Gender_Male\"],axis=1, inplace=True)  \n",
    "#\"Region_Code_41\",\"Region_Code_46\""
   ]
  },
  {
   "cell_type": "code",
   "execution_count": 1859,
   "metadata": {},
   "outputs": [],
   "source": [
    "from sklearn.metrics import accuracy_score\n",
    "from sklearn.metrics import precision_score\n",
    "from sklearn.metrics import recall_score\n",
    "from sklearn.metrics import confusion_matrix\n",
    "from sklearn.metrics import f1_score\n",
    "from sklearn.metrics import classification_report"
   ]
  },
  {
   "cell_type": "markdown",
   "metadata": {},
   "source": [
    "### KNN Classifier-MinMaxScaler"
   ]
  },
  {
   "cell_type": "code",
   "execution_count": 1860,
   "metadata": {},
   "outputs": [],
   "source": [
    "from sklearn.neighbors import KNeighborsClassifier"
   ]
  },
  {
   "cell_type": "code",
   "execution_count": 1861,
   "metadata": {},
   "outputs": [],
   "source": [
    "scaler = MinMaxScaler()"
   ]
  },
  {
   "cell_type": "code",
   "execution_count": 1862,
   "metadata": {},
   "outputs": [],
   "source": [
    "KNN = KNeighborsClassifier()"
   ]
  },
  {
   "cell_type": "code",
   "execution_count": 1863,
   "metadata": {},
   "outputs": [],
   "source": [
    "df[[\"Log_Annual_Premium\", \"Seniority\"]] = scaler.fit_transform(df[[\"Log_Annual_Premium\", \"Seniority\"]])"
   ]
  },
  {
   "cell_type": "code",
   "execution_count": 1864,
   "metadata": {},
   "outputs": [],
   "source": [
    "X = df.drop(columns=['Target', \"id\"],axis=1)\n"
   ]
  },
  {
   "cell_type": "code",
   "execution_count": 1865,
   "metadata": {},
   "outputs": [],
   "source": [
    "y = df['Target']"
   ]
  },
  {
   "cell_type": "code",
   "execution_count": 1866,
   "metadata": {},
   "outputs": [],
   "source": [
    "x_train, x_test, y_train, y_test = train_test_split(X, y, test_size=0.20 ,random_state=123, stratify=y)"
   ]
  },
  {
   "cell_type": "code",
   "execution_count": 1867,
   "metadata": {},
   "outputs": [],
   "source": [
    "#df_down = pd.concat([x_train, y_train], axis=1)"
   ]
  },
  {
   "cell_type": "code",
   "execution_count": 1868,
   "metadata": {},
   "outputs": [],
   "source": [
    "#df_down.Target.value_counts()"
   ]
  },
  {
   "cell_type": "code",
   "execution_count": 1869,
   "metadata": {},
   "outputs": [],
   "source": [
    "#from sklearn.utils import resample\n",
    "\n",
    "#df_majority = df_down[df.Target==0] \n",
    "#df_minority = df_down[df.Target==1] \n",
    " \n",
    "#2) Downsample majority class\n",
    "#df_majority_downsampled = resample(df_majority, \n",
    "                                   #replace=False,\n",
    "                                  # n_samples=25978,  # number of samples into the minority class (change it accordingly to your dataset)\n",
    "                                   #random_state=123)  # reproducible results\n",
    " \n",
    "#3) Combine minority class with downsampled majority class\n",
    "#df_downsampled = pd.concat([df_majority_downsampled, df_minority])\n",
    " \n",
    "#4) Display new class counts\n",
    "#df_downsampled.Target.value_counts() #\"target\" is the name of the target column, change it accordingly to your dataset\"\"\""
   ]
  },
  {
   "cell_type": "code",
   "execution_count": 1870,
   "metadata": {},
   "outputs": [],
   "source": [
    "#x_train_down = df_down.drop(columns=['Target'],axis=1)\n",
    "#y_train_down = df_down['Target']"
   ]
  },
  {
   "cell_type": "code",
   "execution_count": 1871,
   "metadata": {},
   "outputs": [
    {
     "data": {
      "text/plain": [
       "KNeighborsClassifier()"
      ]
     },
     "execution_count": 1871,
     "metadata": {},
     "output_type": "execute_result"
    }
   ],
   "source": [
    "KNN.fit(x_train, y_train)"
   ]
  },
  {
   "cell_type": "code",
   "execution_count": 1872,
   "metadata": {},
   "outputs": [],
   "source": [
    "y_pred = KNN.predict(x_test)"
   ]
  },
  {
   "cell_type": "code",
   "execution_count": 1873,
   "metadata": {},
   "outputs": [
    {
     "name": "stdout",
     "output_type": "stream",
     "text": [
      "Accuracy score is 0.7328904303649064 :\n",
      "Precision score is 0.5778620166793025 :\n",
      "Recall score is 0.5867590454195535 :\n",
      "F1_score is 0.5822765469824293 :\n"
     ]
    }
   ],
   "source": [
    "print(\"Accuracy score is {} :\".format(accuracy_score(y_test, y_pred)))\n",
    "print(\"Precision score is {} :\".format(precision_score(y_test, y_pred)))\n",
    "print(\"Recall score is {} :\".format(recall_score(y_test, y_pred)))\n",
    "print(\"F1_score is {} :\".format(f1_score(y_test, y_pred)))"
   ]
  },
  {
   "cell_type": "code",
   "execution_count": 1874,
   "metadata": {},
   "outputs": [
    {
     "name": "stdout",
     "output_type": "stream",
     "text": [
      "              precision    recall  f1-score   support\n",
      "\n",
      "           0       0.81      0.80      0.80     13976\n",
      "           1       0.58      0.59      0.58      6495\n",
      "\n",
      "    accuracy                           0.73     20471\n",
      "   macro avg       0.69      0.69      0.69     20471\n",
      "weighted avg       0.73      0.73      0.73     20471\n",
      "\n"
     ]
    }
   ],
   "source": [
    "print(classification_report(y_test, y_pred))"
   ]
  },
  {
   "cell_type": "markdown",
   "metadata": {},
   "source": [
    "### KNN Classifier-Standard Scaler"
   ]
  },
  {
   "cell_type": "code",
   "execution_count": null,
   "metadata": {},
   "outputs": [],
   "source": [
    "from sklearn.neighbors import KNeighborsClassifier"
   ]
  },
  {
   "cell_type": "code",
   "execution_count": null,
   "metadata": {},
   "outputs": [],
   "source": [
    "KNN = KNeighborsClassifier()"
   ]
  },
  {
   "cell_type": "code",
   "execution_count": null,
   "metadata": {},
   "outputs": [],
   "source": [
    "scaler = StandardScaler()"
   ]
  },
  {
   "cell_type": "code",
   "execution_count": null,
   "metadata": {},
   "outputs": [],
   "source": [
    "df[[\"Log_Annual_Premium\", \"Seniority\"]] = scaler.fit_transform(df[[\"Log_Annual_Premium\", \"Seniority\"]])"
   ]
  },
  {
   "cell_type": "code",
   "execution_count": 688,
   "metadata": {},
   "outputs": [],
   "source": [
    "X = df.drop(columns=['Target', \"id\"],axis=1)\n",
    "y = df['Target']"
   ]
  },
  {
   "cell_type": "code",
   "execution_count": 689,
   "metadata": {},
   "outputs": [],
   "source": [
    "x_train, x_test, y_train, y_test = train_test_split(X, y, test_size=0.20 ,random_state=123, stratify=y)"
   ]
  },
  {
   "cell_type": "code",
   "execution_count": 694,
   "metadata": {},
   "outputs": [
    {
     "data": {
      "text/plain": [
       "KNeighborsClassifier()"
      ]
     },
     "execution_count": 694,
     "metadata": {},
     "output_type": "execute_result"
    }
   ],
   "source": [
    "KNN.fit(x_train, y_train)"
   ]
  },
  {
   "cell_type": "code",
   "execution_count": 695,
   "metadata": {},
   "outputs": [],
   "source": [
    "y_pred = KNN.predict(x_test)"
   ]
  },
  {
   "cell_type": "code",
   "execution_count": 696,
   "metadata": {
    "scrolled": true
   },
   "outputs": [
    {
     "name": "stdout",
     "output_type": "stream",
     "text": [
      "Accuracy score is 0.7339162717991304 :\n",
      "F1_score is 0.5857479656247624 :\n"
     ]
    }
   ],
   "source": [
    "print(\"Accuracy score is {} :\".format(accuracy_score(y_test, y_pred)))\n",
    "print(\"Precision score is {} :\".format(precision_score(y_test, y_pred)))\n",
    "print(\"Recall score is {} :\".format(recall_score(y_test, y_pred)))\n",
    "print(\"F1_score is {} :\".format(f1_score(y_test, y_pred)))"
   ]
  },
  {
   "cell_type": "markdown",
   "metadata": {},
   "source": [
    "### KNN with RobustScaler"
   ]
  },
  {
   "cell_type": "code",
   "execution_count": null,
   "metadata": {},
   "outputs": [],
   "source": [
    "from sklearn.neighbors import KNeighborsClassifier"
   ]
  },
  {
   "cell_type": "code",
   "execution_count": null,
   "metadata": {},
   "outputs": [],
   "source": [
    "KNN = KNeighborsClassifier()"
   ]
  },
  {
   "cell_type": "code",
   "execution_count": null,
   "metadata": {},
   "outputs": [],
   "source": [
    "scaler = RobustScaler()"
   ]
  },
  {
   "cell_type": "code",
   "execution_count": null,
   "metadata": {},
   "outputs": [],
   "source": [
    "df[[\"Log_Annual_Premium\", \"Seniority\"]] = scaler.fit_transform(df[[\"Log_Annual_Premium\", \"Seniority\"]])"
   ]
  },
  {
   "cell_type": "code",
   "execution_count": 951,
   "metadata": {},
   "outputs": [],
   "source": [
    "X = df.drop(columns=['Target', \"id\"],axis=1)\n",
    "y = df['Target']"
   ]
  },
  {
   "cell_type": "code",
   "execution_count": 955,
   "metadata": {},
   "outputs": [],
   "source": [
    "x_train, x_test, y_train, y_test = train_test_split(X, y, test_size=0.20 ,random_state=123, stratify=y)"
   ]
  },
  {
   "cell_type": "code",
   "execution_count": 956,
   "metadata": {},
   "outputs": [],
   "source": [
    "df[[\"Log_Annual_Premium\", \"Seniority\"]] = scaler.fit_transform(df[[\"Log_Annual_Premium\", \"Seniority\"]])"
   ]
  },
  {
   "cell_type": "code",
   "execution_count": 957,
   "metadata": {},
   "outputs": [
    {
     "data": {
      "text/plain": [
       "KNeighborsClassifier()"
      ]
     },
     "execution_count": 957,
     "metadata": {},
     "output_type": "execute_result"
    }
   ],
   "source": [
    "KNN.fit(x_train, y_train)"
   ]
  },
  {
   "cell_type": "code",
   "execution_count": 958,
   "metadata": {},
   "outputs": [],
   "source": [
    "y_pred = KNN.predict(x_test)"
   ]
  },
  {
   "cell_type": "code",
   "execution_count": 959,
   "metadata": {},
   "outputs": [
    {
     "name": "stdout",
     "output_type": "stream",
     "text": [
      "Accuracy score is 0.7328904303649064 :\n",
      "Precision score is 0.5778620166793025 :\n",
      "Recall score is 0.5867590454195535 :\n",
      "F1_score is 0.5822765469824293 :\n"
     ]
    }
   ],
   "source": [
    "print(\"Accuracy score is {} :\".format(accuracy_score(y_test, y_pred)))\n",
    "print(\"Precision score is {} :\".format(precision_score(y_test, y_pred)))\n",
    "print(\"Recall score is {} :\".format(recall_score(y_test, y_pred)))\n",
    "print(\"F1_score is {} :\".format(f1_score(y_test, y_pred)))"
   ]
  },
  {
   "cell_type": "markdown",
   "metadata": {},
   "source": [
    "### Decision Tree Classifier- RobustScaler"
   ]
  },
  {
   "cell_type": "code",
   "execution_count": 1875,
   "metadata": {},
   "outputs": [],
   "source": [
    "from sklearn.tree import DecisionTreeClassifier"
   ]
  },
  {
   "cell_type": "code",
   "execution_count": 1876,
   "metadata": {},
   "outputs": [],
   "source": [
    "tree = DecisionTreeClassifier(max_depth=10, criterion=\"gini\", min_samples_split=2, min_samples_leaf=2)"
   ]
  },
  {
   "cell_type": "code",
   "execution_count": 1877,
   "metadata": {},
   "outputs": [],
   "source": [
    "scaler = RobustScaler() "
   ]
  },
  {
   "cell_type": "code",
   "execution_count": 1878,
   "metadata": {},
   "outputs": [],
   "source": [
    "df[[\"Log_Annual_Premium\", \"Seniority\"]] = scaler.fit_transform(df[[\"Log_Annual_Premium\", \"Seniority\"]])"
   ]
  },
  {
   "cell_type": "code",
   "execution_count": 1879,
   "metadata": {},
   "outputs": [],
   "source": [
    "X = df.drop(columns=['Target', \"id\"],axis=1)\n"
   ]
  },
  {
   "cell_type": "code",
   "execution_count": 1880,
   "metadata": {},
   "outputs": [],
   "source": [
    "y = df['Target']"
   ]
  },
  {
   "cell_type": "code",
   "execution_count": 1881,
   "metadata": {},
   "outputs": [],
   "source": [
    "x_train, x_test, y_train, y_test = train_test_split(X, y, test_size=0.20 ,random_state=123, stratify=y)"
   ]
  },
  {
   "cell_type": "code",
   "execution_count": 1882,
   "metadata": {},
   "outputs": [],
   "source": [
    "#X = df.drop(columns=['Target', \"id\"],axis=1)\n",
    "#y = df['Target']"
   ]
  },
  {
   "cell_type": "code",
   "execution_count": 1883,
   "metadata": {},
   "outputs": [],
   "source": [
    "#x_train, x_test, y_train, y_test = train_test_split(X, y, test_size=0.20 ,random_state=1234, stratify=y)"
   ]
  },
  {
   "cell_type": "code",
   "execution_count": 1884,
   "metadata": {},
   "outputs": [
    {
     "data": {
      "text/plain": [
       "DecisionTreeClassifier(max_depth=10, min_samples_leaf=2)"
      ]
     },
     "execution_count": 1884,
     "metadata": {},
     "output_type": "execute_result"
    }
   ],
   "source": [
    "tree.fit(x_train_down, y_train_down)"
   ]
  },
  {
   "cell_type": "code",
   "execution_count": 1885,
   "metadata": {},
   "outputs": [],
   "source": [
    "y_pred = tree.predict(x_test)"
   ]
  },
  {
   "cell_type": "code",
   "execution_count": 1886,
   "metadata": {
    "scrolled": false
   },
   "outputs": [
    {
     "name": "stdout",
     "output_type": "stream",
     "text": [
      "Accuracy score is 0.7588295637731425 :\n",
      "Precision score is 0.6010114107883817 :\n",
      "Recall score is 0.7136258660508084 :\n",
      "F1_score is 0.6524952488210037 :\n",
      "              precision    recall  f1-score   support\n",
      "\n",
      "           0       0.85      0.78      0.82     13976\n",
      "           1       0.60      0.71      0.65      6495\n",
      "\n",
      "    accuracy                           0.76     20471\n",
      "   macro avg       0.73      0.75      0.73     20471\n",
      "weighted avg       0.77      0.76      0.76     20471\n",
      "\n"
     ]
    }
   ],
   "source": [
    "print(\"Accuracy score is {} :\".format(accuracy_score(y_test, y_pred)))\n",
    "print(\"Precision score is {} :\".format(precision_score(y_test, y_pred)))\n",
    "print(\"Recall score is {} :\".format(recall_score(y_test, y_pred)))\n",
    "print(\"F1_score is {} :\".format(f1_score(y_test, y_pred)))\n",
    "print(classification_report(y_test, y_pred))"
   ]
  },
  {
   "cell_type": "markdown",
   "metadata": {},
   "source": [
    "### Naive Bayes Classifier - RobustScaler"
   ]
  },
  {
   "cell_type": "code",
   "execution_count": 1892,
   "metadata": {},
   "outputs": [],
   "source": [
    "from sklearn.naive_bayes import GaussianNB"
   ]
  },
  {
   "cell_type": "code",
   "execution_count": 1893,
   "metadata": {},
   "outputs": [],
   "source": [
    "bayes = GaussianNB()"
   ]
  },
  {
   "cell_type": "code",
   "execution_count": 1894,
   "metadata": {},
   "outputs": [],
   "source": [
    "scaler = RobustScaler() "
   ]
  },
  {
   "cell_type": "code",
   "execution_count": 1895,
   "metadata": {},
   "outputs": [],
   "source": [
    "df[[\"Log_Annual_Premium\", \"Seniority\"]] = scaler.fit_transform(df[[\"Log_Annual_Premium\", \"Seniority\"]])"
   ]
  },
  {
   "cell_type": "code",
   "execution_count": 1896,
   "metadata": {},
   "outputs": [],
   "source": [
    "X = df.drop(columns=['Target', \"id\"],axis=1)\n",
    "y = df['Target']"
   ]
  },
  {
   "cell_type": "code",
   "execution_count": 1897,
   "metadata": {},
   "outputs": [],
   "source": [
    "x_train, x_test, y_train, y_test = train_test_split(X, y, test_size=0.20 ,random_state=1234, stratify=y)"
   ]
  },
  {
   "cell_type": "code",
   "execution_count": 1898,
   "metadata": {},
   "outputs": [
    {
     "data": {
      "text/plain": [
       "GaussianNB()"
      ]
     },
     "execution_count": 1898,
     "metadata": {},
     "output_type": "execute_result"
    }
   ],
   "source": [
    "bayes.fit(x_train, y_train)"
   ]
  },
  {
   "cell_type": "code",
   "execution_count": 1899,
   "metadata": {},
   "outputs": [],
   "source": [
    "y_pred = bayes.predict(x_test)"
   ]
  },
  {
   "cell_type": "code",
   "execution_count": 1900,
   "metadata": {
    "scrolled": true
   },
   "outputs": [
    {
     "name": "stdout",
     "output_type": "stream",
     "text": [
      "Accuracy score is 0.7413902593913341 :\n",
      "Precision score is 0.5560220169791958 :\n",
      "Recall score is 0.9176289453425712 :\n",
      "F1_score is 0.6924596258859068 :\n"
     ]
    }
   ],
   "source": [
    "print(\"Accuracy score is {} :\".format(accuracy_score(y_test, y_pred)))\n",
    "print(\"Precision score is {} :\".format(precision_score(y_test, y_pred)))\n",
    "print(\"Recall score is {} :\".format(recall_score(y_test, y_pred)))\n",
    "print(\"F1_score is {} :\".format(f1_score(y_test, y_pred)))"
   ]
  },
  {
   "cell_type": "code",
   "execution_count": 1901,
   "metadata": {},
   "outputs": [
    {
     "name": "stdout",
     "output_type": "stream",
     "text": [
      "              precision    recall  f1-score   support\n",
      "\n",
      "           0       0.95      0.66      0.78     13976\n",
      "           1       0.56      0.92      0.69      6495\n",
      "\n",
      "    accuracy                           0.74     20471\n",
      "   macro avg       0.75      0.79      0.73     20471\n",
      "weighted avg       0.82      0.74      0.75     20471\n",
      "\n"
     ]
    }
   ],
   "source": [
    "print(classification_report(y_test, y_pred))"
   ]
  },
  {
   "cell_type": "markdown",
   "metadata": {},
   "source": [
    "### Logistic Regression - RobustScaler"
   ]
  },
  {
   "cell_type": "code",
   "execution_count": 1539,
   "metadata": {},
   "outputs": [],
   "source": [
    "from sklearn.linear_model import LogisticRegression"
   ]
  },
  {
   "cell_type": "code",
   "execution_count": 1540,
   "metadata": {},
   "outputs": [],
   "source": [
    "log = LogisticRegression()"
   ]
  },
  {
   "cell_type": "code",
   "execution_count": 1541,
   "metadata": {},
   "outputs": [],
   "source": [
    "scaler = RobustScaler() "
   ]
  },
  {
   "cell_type": "code",
   "execution_count": null,
   "metadata": {},
   "outputs": [],
   "source": [
    "df[[\"Log_Annual_Premium\", \"Seniority\"]] = scaler.fit_transform(df[[\"Log_Annual_Premium\", \"Seniority\"]])"
   ]
  },
  {
   "cell_type": "code",
   "execution_count": 1542,
   "metadata": {},
   "outputs": [],
   "source": [
    "X = df.drop(columns=['Target', \"id\"],axis=1)\n",
    "y = df['Target']"
   ]
  },
  {
   "cell_type": "code",
   "execution_count": 1543,
   "metadata": {},
   "outputs": [],
   "source": [
    "x_train, x_test, y_train, y_test = train_test_split(X, y, test_size=0.20 ,random_state=1234, stratify=y)"
   ]
  },
  {
   "cell_type": "code",
   "execution_count": 1545,
   "metadata": {},
   "outputs": [
    {
     "data": {
      "text/plain": [
       "LogisticRegression()"
      ]
     },
     "execution_count": 1545,
     "metadata": {},
     "output_type": "execute_result"
    }
   ],
   "source": [
    "log.fit(x_train, y_train)"
   ]
  },
  {
   "cell_type": "code",
   "execution_count": 1546,
   "metadata": {},
   "outputs": [],
   "source": [
    "y_pred = log.predict(x_test)"
   ]
  },
  {
   "cell_type": "code",
   "execution_count": 1547,
   "metadata": {
    "scrolled": true
   },
   "outputs": [
    {
     "name": "stdout",
     "output_type": "stream",
     "text": [
      "Accuracy score is 0.7651800107469102 :\n",
      "Precision score is 0.6093831000518404 :\n",
      "Recall score is 0.723941493456505 :\n",
      "F1_score is 0.6617409049327987 :\n"
     ]
    }
   ],
   "source": [
    "print(\"Accuracy score is {} :\".format(accuracy_score(y_test, y_pred)))\n",
    "print(\"Precision score is {} :\".format(precision_score(y_test, y_pred)))\n",
    "print(\"Recall score is {} :\".format(recall_score(y_test, y_pred)))\n",
    "print(\"F1_score is {} :\".format(f1_score(y_test, y_pred)))"
   ]
  },
  {
   "cell_type": "markdown",
   "metadata": {},
   "source": [
    "## TUNING HYPERPARAMETERS"
   ]
  },
  {
   "cell_type": "markdown",
   "metadata": {},
   "source": [
    "### Decision Tree Classifier- RobustScaler- Tuning"
   ]
  },
  {
   "cell_type": "code",
   "execution_count": 1902,
   "metadata": {},
   "outputs": [],
   "source": [
    "from sklearn.tree import DecisionTreeClassifier"
   ]
  },
  {
   "cell_type": "code",
   "execution_count": 1903,
   "metadata": {},
   "outputs": [],
   "source": [
    "tree = DecisionTreeClassifier()"
   ]
  },
  {
   "cell_type": "code",
   "execution_count": 1904,
   "metadata": {},
   "outputs": [],
   "source": [
    "scaler = RobustScaler() "
   ]
  },
  {
   "cell_type": "code",
   "execution_count": 1905,
   "metadata": {},
   "outputs": [],
   "source": [
    "df[[\"Log_Annual_Premium\", \"Seniority\"]] = scaler.fit_transform(df[[\"Log_Annual_Premium\", \"Seniority\"]])"
   ]
  },
  {
   "cell_type": "code",
   "execution_count": 1906,
   "metadata": {},
   "outputs": [],
   "source": [
    "X = df.drop(columns=['Target', \"id\"],axis=1)\n",
    "y = df['Target']"
   ]
  },
  {
   "cell_type": "code",
   "execution_count": 1907,
   "metadata": {},
   "outputs": [],
   "source": [
    "x_train, x_test, y_train, y_test = train_test_split(X, y, test_size=0.20 ,random_state=1234, stratify=y)"
   ]
  },
  {
   "cell_type": "code",
   "execution_count": 1908,
   "metadata": {},
   "outputs": [],
   "source": [
    "param_grid = param_grid = [{'max_depth' : [8,9,15,20],\n",
    "                            'min_samples_leaf':[2,3,4,5],\n",
    "                           \"criterion\" : [\"gini\"],\n",
    "                            \"min_samples_split\": [2,3]\n",
    "                           }]"
   ]
  },
  {
   "cell_type": "code",
   "execution_count": 1911,
   "metadata": {},
   "outputs": [],
   "source": [
    "CV_tree = GridSearchCV(estimator=tree, param_grid=param_grid, cv= 3,n_jobs= 1 )"
   ]
  },
  {
   "cell_type": "code",
   "execution_count": 1912,
   "metadata": {},
   "outputs": [
    {
     "data": {
      "text/plain": [
       "GridSearchCV(cv=3, estimator=DecisionTreeClassifier(), n_jobs=1,\n",
       "             param_grid=[{'criterion': ['gini'], 'max_depth': [8, 9, 15, 20],\n",
       "                          'min_samples_leaf': [2, 3, 4, 5],\n",
       "                          'min_samples_split': [2, 3]}])"
      ]
     },
     "execution_count": 1912,
     "metadata": {},
     "output_type": "execute_result"
    }
   ],
   "source": [
    "CV_tree.fit(x_train, y_train)"
   ]
  },
  {
   "cell_type": "code",
   "execution_count": 1914,
   "metadata": {
    "scrolled": true
   },
   "outputs": [
    {
     "name": "stdout",
     "output_type": "stream",
     "text": [
      "Accuracy score is 0.7413902593913341 :\n",
      "Precision score is 0.5560220169791958 :\n",
      "Recall score is 0.9176289453425712 :\n",
      "F1_score is 0.6924596258859068 :\n",
      "{'criterion': 'gini', 'max_depth': 8, 'min_samples_leaf': 2, 'min_samples_split': 3}\n",
      "              precision    recall  f1-score   support\n",
      "\n",
      "           0       0.95      0.66      0.78     13976\n",
      "           1       0.56      0.92      0.69      6495\n",
      "\n",
      "    accuracy                           0.74     20471\n",
      "   macro avg       0.75      0.79      0.73     20471\n",
      "weighted avg       0.82      0.74      0.75     20471\n",
      "\n"
     ]
    }
   ],
   "source": [
    "print(\"Accuracy score is {} :\".format(accuracy_score(y_test, y_pred)))\n",
    "print(\"Precision score is {} :\".format(precision_score(y_test, y_pred)))\n",
    "print(\"Recall score is {} :\".format(recall_score(y_test, y_pred)))\n",
    "print(\"F1_score is {} :\".format(f1_score(y_test, y_pred)))\n",
    "print(CV_tree.best_params_)\n",
    "print(classification_report(y_test, y_pred))"
   ]
  },
  {
   "cell_type": "code",
   "execution_count": null,
   "metadata": {},
   "outputs": [],
   "source": []
  },
  {
   "cell_type": "markdown",
   "metadata": {},
   "source": [
    "### KNN TUNED"
   ]
  },
  {
   "cell_type": "code",
   "execution_count": 839,
   "metadata": {},
   "outputs": [],
   "source": [
    "from sklearn.neighbors import KNeighborsClassifier"
   ]
  },
  {
   "cell_type": "code",
   "execution_count": 840,
   "metadata": {},
   "outputs": [],
   "source": [
    "knn = KNeighborsClassifier()"
   ]
  },
  {
   "cell_type": "code",
   "execution_count": 841,
   "metadata": {},
   "outputs": [],
   "source": [
    "scaler = RobustScaler() "
   ]
  },
  {
   "cell_type": "code",
   "execution_count": null,
   "metadata": {},
   "outputs": [],
   "source": [
    "df[[\"Log_Annual_Premium\", \"Seniority\"]] = scaler.fit_transform(df[[\"Log_Annual_Premium\", \"Seniority\"]])"
   ]
  },
  {
   "cell_type": "code",
   "execution_count": 842,
   "metadata": {},
   "outputs": [],
   "source": [
    "X = df.drop(columns=['Target', \"id\"],axis=1)\n",
    "y = df['Target']"
   ]
  },
  {
   "cell_type": "code",
   "execution_count": 843,
   "metadata": {},
   "outputs": [],
   "source": [
    "x_train, x_test, y_train, y_test = train_test_split(X, y, test_size=0.20 ,random_state=1234, stratify=y)"
   ]
  },
  {
   "cell_type": "code",
   "execution_count": 845,
   "metadata": {},
   "outputs": [],
   "source": [
    "param_grid = param_grid = [{'n_neighbors' : [5,7,9,11],\n",
    "                            \"weights\": [\"uniform\", \"distance\"],\n",
    "                            \"p\" : [1,2],\n",
    "                            \"algorithm\": [\"auto\", \"ball_tree\", \"kd_tree\", \"brute\"]\n",
    "                           }]"
   ]
  },
  {
   "cell_type": "code",
   "execution_count": 846,
   "metadata": {},
   "outputs": [],
   "source": [
    "CV_KNN = GridSearchCV(estimator=knn, param_grid=param_grid, cv= 3,n_jobs= -1 )"
   ]
  },
  {
   "cell_type": "code",
   "execution_count": 847,
   "metadata": {},
   "outputs": [
    {
     "data": {
      "text/plain": [
       "GridSearchCV(cv=3, estimator=KNeighborsClassifier(), n_jobs=-1,\n",
       "             param_grid=[{'algorithm': ['auto', 'ball_tree', 'kd_tree',\n",
       "                                        'brute'],\n",
       "                          'n_neighbors': [5, 7, 9, 11], 'p': [1, 2],\n",
       "                          'weights': ['uniform', 'distance']}])"
      ]
     },
     "execution_count": 847,
     "metadata": {},
     "output_type": "execute_result"
    }
   ],
   "source": [
    "CV_KNN.fit(x_train, y_train)"
   ]
  },
  {
   "cell_type": "code",
   "execution_count": 848,
   "metadata": {},
   "outputs": [],
   "source": [
    "y_pred = CV_KNN.predict(x_test)"
   ]
  },
  {
   "cell_type": "code",
   "execution_count": 849,
   "metadata": {
    "scrolled": true
   },
   "outputs": [
    {
     "name": "stdout",
     "output_type": "stream",
     "text": [
      "Accuracy score is 0.7455424747203361 :\n",
      "Precision score is 0.5946423314689432 :\n",
      "Recall score is 0.6220169361046959 :\n",
      "F1_score is 0.6080216720595981 :\n",
      "{'algorithm': 'brute', 'n_neighbors': 11, 'p': 1, 'weights': 'uniform'}\n"
     ]
    }
   ],
   "source": [
    "print(\"Accuracy score is {} :\".format(accuracy_score(y_test, y_pred)))\n",
    "print(\"Precision score is {} :\".format(precision_score(y_test, y_pred)))\n",
    "print(\"Recall score is {} :\".format(recall_score(y_test, y_pred)))\n",
    "print(\"F1_score is {} :\".format(f1_score(y_test, y_pred)))\n",
    "print(CV_KNN.best_params_)"
   ]
  },
  {
   "cell_type": "markdown",
   "metadata": {},
   "source": [
    "### Logistic Regression Tuned - RobustScaler"
   ]
  },
  {
   "cell_type": "code",
   "execution_count": 891,
   "metadata": {},
   "outputs": [],
   "source": [
    "from sklearn.linear_model import LogisticRegression"
   ]
  },
  {
   "cell_type": "code",
   "execution_count": 892,
   "metadata": {},
   "outputs": [],
   "source": [
    "log = LogisticRegression()"
   ]
  },
  {
   "cell_type": "code",
   "execution_count": 893,
   "metadata": {},
   "outputs": [],
   "source": [
    "scaler = RobustScaler() "
   ]
  },
  {
   "cell_type": "code",
   "execution_count": null,
   "metadata": {},
   "outputs": [],
   "source": [
    "df[[\"Log_Annual_Premium\", \"Seniority\"]] = scaler.fit_transform(df[[\"Log_Annual_Premium\", \"Seniority\"]])"
   ]
  },
  {
   "cell_type": "code",
   "execution_count": 894,
   "metadata": {},
   "outputs": [],
   "source": [
    "X = df.drop(columns=['Target', \"id\"],axis=1)\n",
    "y = df['Target']"
   ]
  },
  {
   "cell_type": "code",
   "execution_count": 895,
   "metadata": {},
   "outputs": [],
   "source": [
    "x_train, x_test, y_train, y_test = train_test_split(X, y, test_size=0.20 ,random_state=1234, stratify=y)"
   ]
  },
  {
   "cell_type": "code",
   "execution_count": 897,
   "metadata": {},
   "outputs": [],
   "source": [
    "param_grid = param_grid = [{'penalty' : [\"l1\", \"l2\", \"elasticnet\", \"none\"],\n",
    "                            \"C\": [0.1, 1, 10],\n",
    "                            \"solver\" : [\"newton-cg\", \"lbfgs\", \"liblinear\", \"sag\", \"saga\"],\n",
    "                            \"multi_class\": [\"auto\", \"ovr\", \"multinomial\"]\n",
    "                           }]"
   ]
  },
  {
   "cell_type": "code",
   "execution_count": 898,
   "metadata": {},
   "outputs": [],
   "source": [
    "CV_log = GridSearchCV(estimator=log, param_grid=param_grid, cv= 3,n_jobs= -1 )"
   ]
  },
  {
   "cell_type": "code",
   "execution_count": 899,
   "metadata": {},
   "outputs": [
    {
     "name": "stderr",
     "output_type": "stream",
     "text": [
      "/opt/anaconda3/lib/python3.8/site-packages/sklearn/linear_model/_logistic.py:1320: UserWarning: Setting penalty='none' will ignore the C and l1_ratio parameters\n",
      "  warnings.warn(\n"
     ]
    },
    {
     "data": {
      "text/plain": [
       "GridSearchCV(cv=3, estimator=LogisticRegression(), n_jobs=-1,\n",
       "             param_grid=[{'C': [0.1, 1, 10],\n",
       "                          'multi_class': ['auto', 'ovr', 'multinomial'],\n",
       "                          'penalty': ['l1', 'l2', 'elasticnet', 'none'],\n",
       "                          'solver': ['newton-cg', 'lbfgs', 'liblinear', 'sag',\n",
       "                                     'saga']}])"
      ]
     },
     "execution_count": 899,
     "metadata": {},
     "output_type": "execute_result"
    }
   ],
   "source": [
    "CV_log.fit(x_train, y_train)"
   ]
  },
  {
   "cell_type": "code",
   "execution_count": 900,
   "metadata": {},
   "outputs": [],
   "source": [
    "y_pred = CV_log.predict(x_test)"
   ]
  },
  {
   "cell_type": "code",
   "execution_count": 901,
   "metadata": {
    "scrolled": true
   },
   "outputs": [
    {
     "name": "stdout",
     "output_type": "stream",
     "text": [
      "Accuracy score is 0.7638122221679449 :\n",
      "Precision score is 0.6066563865330249 :\n",
      "Recall score is 0.7268668206312549 :\n",
      "F1_score is 0.6613434194858864 :\n",
      "{'C': 0.1, 'multi_class': 'multinomial', 'penalty': 'none', 'solver': 'sag'}\n"
     ]
    }
   ],
   "source": [
    "print(\"Accuracy score is {} :\".format(accuracy_score(y_test, y_pred)))\n",
    "print(\"Precision score is {} :\".format(precision_score(y_test, y_pred)))\n",
    "print(\"Recall score is {} :\".format(recall_score(y_test, y_pred)))\n",
    "print(\"F1_score is {} :\".format(f1_score(y_test, y_pred)))\n",
    "print(CV_log.best_params_)"
   ]
  },
  {
   "cell_type": "code",
   "execution_count": null,
   "metadata": {},
   "outputs": [],
   "source": []
  },
  {
   "cell_type": "markdown",
   "metadata": {},
   "source": [
    "### Ensemble Learning Methods"
   ]
  },
  {
   "cell_type": "markdown",
   "metadata": {},
   "source": [
    "#### RandomForrestClassifier_Tuned"
   ]
  },
  {
   "cell_type": "code",
   "execution_count": 1915,
   "metadata": {},
   "outputs": [],
   "source": [
    "from sklearn.ensemble import RandomForestClassifier, AdaBoostClassifier, GradientBoostingClassifier"
   ]
  },
  {
   "cell_type": "code",
   "execution_count": 1916,
   "metadata": {},
   "outputs": [],
   "source": [
    "rfc = RandomForestClassifier()"
   ]
  },
  {
   "cell_type": "code",
   "execution_count": 1917,
   "metadata": {},
   "outputs": [],
   "source": [
    "scaler = RobustScaler() "
   ]
  },
  {
   "cell_type": "code",
   "execution_count": 1918,
   "metadata": {},
   "outputs": [],
   "source": [
    "df[[\"Log_Annual_Premium\", \"Seniority\"]] = scaler.fit_transform(df[[\"Log_Annual_Premium\", \"Seniority\"]])"
   ]
  },
  {
   "cell_type": "code",
   "execution_count": 1919,
   "metadata": {},
   "outputs": [],
   "source": [
    "X = df.drop(columns=['Target', \"id\"],axis=1)\n",
    "y = df['Target']"
   ]
  },
  {
   "cell_type": "code",
   "execution_count": 1920,
   "metadata": {},
   "outputs": [],
   "source": [
    "x_train, x_test, y_train, y_test = train_test_split(X, y, test_size=0.20 ,random_state=1234, stratify=y)"
   ]
  },
  {
   "cell_type": "code",
   "execution_count": 1921,
   "metadata": {},
   "outputs": [],
   "source": [
    "param_grid = param_grid = [{'n_estimators' : [250,300,350],\n",
    "                            \"criterion\": [\"gini\",\"entropy\"],\n",
    "                            \"max_depth\" : [8,9,10],\n",
    "                            \"min_samples_split\": [4,5,6,7]\n",
    "                           }]"
   ]
  },
  {
   "cell_type": "code",
   "execution_count": 1924,
   "metadata": {},
   "outputs": [],
   "source": [
    "CV_rfc = GridSearchCV(estimator=rfc, param_grid=param_grid, cv= 3,n_jobs= 1 )"
   ]
  },
  {
   "cell_type": "code",
   "execution_count": null,
   "metadata": {},
   "outputs": [],
   "source": [
    "CV_rfc.fit(x_train, y_train)"
   ]
  },
  {
   "cell_type": "code",
   "execution_count": null,
   "metadata": {},
   "outputs": [],
   "source": [
    "y_pred = CV_rfc.predict(x_test)"
   ]
  },
  {
   "cell_type": "code",
   "execution_count": 1047,
   "metadata": {},
   "outputs": [
    {
     "name": "stdout",
     "output_type": "stream",
     "text": [
      "Accuracy score is 0.7714816081285721 :\n",
      "Precision score is 0.6049682264586944 :\n",
      "Recall score is 0.8061585835257891 :\n",
      "F1_score is 0.6912211221122112 :\n",
      "{'criterion': 'gini', 'max_depth': 8, 'min_samples_split': 5, 'n_estimators': 350}\n"
     ]
    }
   ],
   "source": [
    "print(\"Accuracy score is {} :\".format(accuracy_score(y_test, y_pred)))\n",
    "print(\"Precision score is {} :\".format(precision_score(y_test, y_pred)))\n",
    "print(\"Recall score is {} :\".format(recall_score(y_test, y_pred)))\n",
    "print(\"F1_score is {} :\".format(f1_score(y_test, y_pred)))\n",
    "print(CV_rfc.best_params_)"
   ]
  },
  {
   "cell_type": "code",
   "execution_count": 1048,
   "metadata": {},
   "outputs": [
    {
     "name": "stdout",
     "output_type": "stream",
     "text": [
      "              precision    recall  f1-score   support\n",
      "\n",
      "           0       0.89      0.76      0.82     13976\n",
      "           1       0.60      0.81      0.69      6495\n",
      "\n",
      "    accuracy                           0.77     20471\n",
      "   macro avg       0.75      0.78      0.75     20471\n",
      "weighted avg       0.80      0.77      0.78     20471\n",
      "\n"
     ]
    }
   ],
   "source": [
    "print(classification_report(y_test, y_pred))"
   ]
  },
  {
   "cell_type": "markdown",
   "metadata": {},
   "source": [
    "#### AdaBoostClassifier_Tuned"
   ]
  },
  {
   "cell_type": "code",
   "execution_count": 979,
   "metadata": {},
   "outputs": [],
   "source": [
    "abc = AdaBoostClassifier()"
   ]
  },
  {
   "cell_type": "code",
   "execution_count": 980,
   "metadata": {},
   "outputs": [],
   "source": [
    "scaler = RobustScaler() "
   ]
  },
  {
   "cell_type": "code",
   "execution_count": null,
   "metadata": {},
   "outputs": [],
   "source": [
    "df[[\"Log_Annual_Premium\", \"Seniority\"]] = scaler.fit_transform(df[[\"Log_Annual_Premium\", \"Seniority\"]])"
   ]
  },
  {
   "cell_type": "code",
   "execution_count": 981,
   "metadata": {},
   "outputs": [],
   "source": [
    "X = df.drop(columns=['Target', \"id\"],axis=1)\n",
    "y = df['Target']"
   ]
  },
  {
   "cell_type": "code",
   "execution_count": 982,
   "metadata": {},
   "outputs": [],
   "source": [
    "x_train, x_test, y_train, y_test = train_test_split(X, y, test_size=0.20 ,random_state=1234, stratify=y)"
   ]
  },
  {
   "cell_type": "code",
   "execution_count": 984,
   "metadata": {},
   "outputs": [],
   "source": [
    "param_grid = param_grid = [{'n_estimators' : [50,100,150],\n",
    "                            \"learning_rate\": [0.1,0.5,1,2],\n",
    "                            \"algorithm\" : [\"SAMME\", \"SAMME.R\"]\n",
    "                           }]"
   ]
  },
  {
   "cell_type": "code",
   "execution_count": 985,
   "metadata": {},
   "outputs": [],
   "source": [
    "CV_abc = GridSearchCV(estimator=abc, param_grid=param_grid, cv= 3,n_jobs= -1 )"
   ]
  },
  {
   "cell_type": "code",
   "execution_count": 986,
   "metadata": {},
   "outputs": [
    {
     "data": {
      "text/plain": [
       "GridSearchCV(cv=3, estimator=AdaBoostClassifier(), n_jobs=-1,\n",
       "             param_grid=[{'algorithm': ['SAMME', 'SAMME.R'],\n",
       "                          'learning_rate': [0.1, 0.5, 1, 2],\n",
       "                          'n_estimators': [50, 100, 150]}])"
      ]
     },
     "execution_count": 986,
     "metadata": {},
     "output_type": "execute_result"
    }
   ],
   "source": [
    "CV_abc.fit(x_train, y_train)"
   ]
  },
  {
   "cell_type": "code",
   "execution_count": 987,
   "metadata": {},
   "outputs": [],
   "source": [
    "y_pred = CV_abc.predict(x_test)"
   ]
  },
  {
   "cell_type": "code",
   "execution_count": 988,
   "metadata": {},
   "outputs": [
    {
     "name": "stdout",
     "output_type": "stream",
     "text": [
      "Accuracy score is 0.7652777099311221 :\n",
      "Precision score is 0.6084445585215605 :\n",
      "Recall score is 0.7299461123941493 :\n",
      "F1_score is 0.6636802687758101 :\n",
      "{'algorithm': 'SAMME.R', 'learning_rate': 0.5, 'n_estimators': 150}\n"
     ]
    }
   ],
   "source": [
    "print(\"Accuracy score is {} :\".format(accuracy_score(y_test, y_pred)))\n",
    "print(\"Precision score is {} :\".format(precision_score(y_test, y_pred)))\n",
    "print(\"Recall score is {} :\".format(recall_score(y_test, y_pred)))\n",
    "print(\"F1_score is {} :\".format(f1_score(y_test, y_pred)))\n",
    "print(CV_abc.best_params_)"
   ]
  },
  {
   "cell_type": "code",
   "execution_count": 1052,
   "metadata": {},
   "outputs": [
    {
     "name": "stdout",
     "output_type": "stream",
     "text": [
      "              precision    recall  f1-score   support\n",
      "\n",
      "           0       0.89      0.76      0.82     13976\n",
      "           1       0.60      0.81      0.69      6495\n",
      "\n",
      "    accuracy                           0.77     20471\n",
      "   macro avg       0.75      0.78      0.75     20471\n",
      "weighted avg       0.80      0.77      0.78     20471\n",
      "\n"
     ]
    }
   ],
   "source": [
    "print(classification_report(y_test, y_pred))"
   ]
  },
  {
   "cell_type": "markdown",
   "metadata": {},
   "source": [
    "#### GradientBoostingClassifier_Tuned"
   ]
  },
  {
   "cell_type": "code",
   "execution_count": 1082,
   "metadata": {},
   "outputs": [],
   "source": [
    "gbc = GradientBoostingClassifier()"
   ]
  },
  {
   "cell_type": "code",
   "execution_count": 1083,
   "metadata": {},
   "outputs": [],
   "source": [
    "scaler = RobustScaler() "
   ]
  },
  {
   "cell_type": "code",
   "execution_count": null,
   "metadata": {},
   "outputs": [],
   "source": [
    "df[[\"Log_Annual_Premium\", \"Seniority\"]] = scaler.fit_transform(df[[\"Log_Annual_Premium\", \"Seniority\"]])"
   ]
  },
  {
   "cell_type": "code",
   "execution_count": 1084,
   "metadata": {},
   "outputs": [],
   "source": [
    "X = df.drop(columns=['Target', \"id\"],axis=1)\n",
    "y = df['Target']"
   ]
  },
  {
   "cell_type": "code",
   "execution_count": 1085,
   "metadata": {},
   "outputs": [],
   "source": [
    "x_train, x_test, y_train, y_test = train_test_split(X, y, test_size=0.20 ,random_state=1234, stratify=y)"
   ]
  },
  {
   "cell_type": "code",
   "execution_count": 1087,
   "metadata": {},
   "outputs": [],
   "source": [
    "param_grid = param_grid = [{'loss' : [\"exponential\"],\n",
    "                            \"learning_rate\": [.1],\n",
    "                            \"criterion\" : [ \"mse\"],\n",
    "                            \"n_estimators\": [100]\n",
    "                           }]"
   ]
  },
  {
   "cell_type": "code",
   "execution_count": 1088,
   "metadata": {},
   "outputs": [],
   "source": [
    "CV_gbc = GridSearchCV(estimator=gbc, param_grid=param_grid, cv= 3,n_jobs= -1 )"
   ]
  },
  {
   "cell_type": "code",
   "execution_count": 1089,
   "metadata": {},
   "outputs": [
    {
     "data": {
      "text/plain": [
       "GridSearchCV(cv=3, estimator=GradientBoostingClassifier(), n_jobs=-1,\n",
       "             param_grid=[{'criterion': ['mse'], 'learning_rate': [1],\n",
       "                          'loss': ['exponential'], 'n_estimators': [100]}])"
      ]
     },
     "execution_count": 1089,
     "metadata": {},
     "output_type": "execute_result"
    }
   ],
   "source": [
    "CV_gbc.fit(x_train, y_train)"
   ]
  },
  {
   "cell_type": "code",
   "execution_count": 1090,
   "metadata": {},
   "outputs": [],
   "source": [
    "y_pred = CV_gbc.predict(x_test)"
   ]
  },
  {
   "cell_type": "code",
   "execution_count": 1091,
   "metadata": {},
   "outputs": [
    {
     "name": "stdout",
     "output_type": "stream",
     "text": [
      "Accuracy score is 0.7629329295100385 :\n",
      "Precision score is 0.607742782152231 :\n",
      "Recall score is 0.7130100076982294 :\n",
      "F1_score is 0.6561813673397097 :\n",
      "{'criterion': 'mse', 'learning_rate': 1, 'loss': 'exponential', 'n_estimators': 100}\n"
     ]
    }
   ],
   "source": [
    "print(\"Accuracy score is {} :\".format(accuracy_score(y_test, y_pred)))\n",
    "print(\"Precision score is {} :\".format(precision_score(y_test, y_pred)))\n",
    "print(\"Recall score is {} :\".format(recall_score(y_test, y_pred)))\n",
    "print(\"F1_score is {} :\".format(f1_score(y_test, y_pred)))\n",
    "print(CV_gbc.best_params_)"
   ]
  },
  {
   "cell_type": "code",
   "execution_count": 1092,
   "metadata": {},
   "outputs": [
    {
     "name": "stdout",
     "output_type": "stream",
     "text": [
      "              precision    recall  f1-score   support\n",
      "\n",
      "           0       0.85      0.79      0.82     13976\n",
      "           1       0.61      0.71      0.66      6495\n",
      "\n",
      "    accuracy                           0.76     20471\n",
      "   macro avg       0.73      0.75      0.74     20471\n",
      "weighted avg       0.78      0.76      0.77     20471\n",
      "\n"
     ]
    }
   ],
   "source": [
    "print(classification_report(y_test, y_pred))"
   ]
  },
  {
   "cell_type": "code",
   "execution_count": null,
   "metadata": {},
   "outputs": [],
   "source": []
  }
 ],
 "metadata": {
  "kernelspec": {
   "display_name": "Python 3",
   "language": "python",
   "name": "python3"
  },
  "language_info": {
   "codemirror_mode": {
    "name": "ipython",
    "version": 3
   },
   "file_extension": ".py",
   "mimetype": "text/x-python",
   "name": "python",
   "nbconvert_exporter": "python",
   "pygments_lexer": "ipython3",
   "version": "3.8.3"
  }
 },
 "nbformat": 4,
 "nbformat_minor": 4
}
